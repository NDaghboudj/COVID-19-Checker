{
 "cells": [
  {
   "cell_type": "markdown",
   "id": "b15f21e1",
   "metadata": {},
   "source": [
    "# NOTE\n",
    "This notebook is for educational purpose it cannot replace a specialized doctor\n",
    "\n"
   ]
  },
  {
   "cell_type": "code",
   "execution_count": null,
   "id": "ea31b858",
   "metadata": {},
   "outputs": [],
   "source": [
    "# IMPORTANT\n",
    "# It is important to downgrade scikit-learn to version 0.23.2 because sklearn-porter doesn't work for later versions\n",
    "# For future versions of sklean-porter you may ignore executing this cell\n",
    "!pip install --upgrade scikit-learn==0.23.2\n",
    "!pip install sklearn-porter"
   ]
  },
  {
   "cell_type": "code",
   "execution_count": null,
   "id": "19123e93",
   "metadata": {},
   "outputs": [],
   "source": [
    "# Import all necessary modules, classes and functions\n",
    "import pandas as pd\n",
    "from sklearn.preprocessing import LabelEncoder\n",
    "from sklearn.model_selection import train_test_split, RandomizedSearchCV\n",
    "from sklearn.tree import DecisionTreeClassifier\n",
    "from sklearn.metrics import accuracy_score, f1_score\n",
    "from sklearn_porter import Porter"
   ]
  },
  {
   "cell_type": "markdown",
   "id": "1f0e6433",
   "metadata": {},
   "source": [
    "The dataset used in this notebook has been downloaded from [Kaggle](https://www.kaggle.com/hemanthhari/symptoms-and-covid-presence)\n",
    ">**Step 1:** Loading the dataset"
   ]
  },
  {
   "cell_type": "code",
   "execution_count": null,
   "id": "6496576c",
   "metadata": {},
   "outputs": [],
   "source": [
    "# Loading the data from the CSV file\n",
    "covid = pd.read_csv(\"../covid_dataset.csv\")\n",
    "covid"
   ]
  },
  {
   "cell_type": "markdown",
   "id": "1bdb30a8",
   "metadata": {},
   "source": [
    "Now we have to encode every 'Yes' and 'No' to '1' and '0' respectively using [LabelEncoder](https://scikit-learn.org/stable/modules/generated/sklearn.preprocessing.LabelEncoder.html)\n",
    ">**Step 2:** Encoding the data"
   ]
  },
  {
   "cell_type": "code",
   "execution_count": null,
   "id": "dd626b5d",
   "metadata": {},
   "outputs": [],
   "source": [
    "# Creating an instance of the LabelEncoder\n",
    "encoder = LabelEncoder()\n",
    "\n",
    "# Loop through every column of the dataset encoding every 'Yes' and 'No' to '1' and '0' respectively\n",
    "for column in covid.columns:\n",
    "    covid[column] = encoder.fit_transform(covid[column])\n",
    "\n",
    "covid"
   ]
  },
  {
   "cell_type": "markdown",
   "id": "a464516c",
   "metadata": {},
   "source": [
    "Before we can use our dataset it is a good practice to filter it keeping only the most relevant features, to do so we have to calculate the correlation between the dependant column which is \"COVID-19\" and the rest of columns using the method [corr()](https://pandas.pydata.org/docs/reference/api/pandas.DataFrame.corr.html).\n",
    "\n",
    "The closer correlation coefficient to zero the less related. (Note: negative coefficient means inversely related)\n",
    ">**Step 3:** Analyzing the dataset extracting for the most relevant features"
   ]
  },
  {
   "cell_type": "code",
   "execution_count": null,
   "id": "51f339cc",
   "metadata": {},
   "outputs": [],
   "source": [
    "# Calculting the correlation matrix and retrieve only columns have correlation with the 'COVID-19' column\n",
    "corr_covid19 = covid.corr()[\"COVID-19\"]\n",
    "\n",
    "# Filtering out columns with correlation greater than 0.05 ignoring negative and NaN values\n",
    "most_relevant_col = corr_covid19[corr_covid19 > 0.05]\n",
    "\n",
    "# Retrieving names of most relevant columns\n",
    "most_relevant_col_names = most_relevant_col.index\n",
    "most_relevant_col_names"
   ]
  },
  {
   "cell_type": "markdown",
   "id": "7958286a",
   "metadata": {},
   "source": [
    ">**Step 4:** Filtering the dataset keeping only the most related columns (features)"
   ]
  },
  {
   "cell_type": "code",
   "execution_count": null,
   "id": "06c82dc3",
   "metadata": {},
   "outputs": [],
   "source": [
    "# Filtering the dataset keeping only the most relevant columns\n",
    "covid = covid[most_relevant_col_names]\n",
    "covid"
   ]
  },
  {
   "cell_type": "markdown",
   "id": "58e1e3e4",
   "metadata": {},
   "source": [
    ">**Step 5:** Spliting our dataset into two datasets, X as an input and y as an output, then spliting each into training and testing datasets"
   ]
  },
  {
   "cell_type": "code",
   "execution_count": null,
   "id": "48218056",
   "metadata": {},
   "outputs": [],
   "source": [
    "# Spliting the main dataset into two datasets, X as input and y as output\n",
    "X = covid.drop('COVID-19', axis=1)\n",
    "y = covid['COVID-19']\n",
    "\n",
    "# Spliting the input dataset (X) and the output dataset (y) into training and testing datasets (each)\n",
    "X_train, X_test, y_train, y_test = train_test_split(X, y, test_size=0.20)"
   ]
  },
  {
   "cell_type": "markdown",
   "id": "a0001bd5",
   "metadata": {},
   "source": [
    "Before we build our classifier we may find it difficult to have a good settings (hyperparameters), to make our life easier we can either use a [GridSearch](https://scikit-learn.org/stable/modules/generated/sklearn.model_selection.GridSearchCV.html) or [RandomizedSearch](https://scikit-learn.org/stable/modules/generated/sklearn.model_selection.RandomizedSearchCV.html) however we will use the last one for its performance.\n",
    ">**Step 6:** Run a random search to find out the best hyperparameters for a DecisionTreeClassifier where the data fittin is ran side by side"
   ]
  },
  {
   "cell_type": "code",
   "execution_count": null,
   "id": "5e4e2808",
   "metadata": {},
   "outputs": [],
   "source": [
    "# Instancing a DecisionTreeClassifier as an estimator for the RandomizedSearch\n",
    "model_dt = DecisionTreeClassifier()\n",
    "\n",
    "# Setting the hyperparamaters we want to optimize\n",
    "param_dist = {\"max_depth\": list(range(6, 10)),\n",
    "              \"min_samples_split\": list(range(4, 8)),\n",
    "              \"min_samples_leaf\": list(range(4, 8)),\n",
    "              \"criterion\": [\"gini\", \"entropy\"]}\n",
    "\n",
    "# Creating an instance of the RandomizedSearch and suppling an estimator and paramaters distribution\n",
    "search = RandomizedSearchCV(model_dt, param_dist)\n",
    "\n",
    "# Fitting the the randomized search to our training dataset\n",
    "search.fit(X_train, y_train)\n",
    "\n",
    "# Retrieve the best estimator found which is the model we will use\n",
    "model_dt_best = search.best_estimator_\n",
    "\n",
    "# Making a prediction using our testing dataset\n",
    "y_pred = model_dt_best.predict(X_test)\n",
    "\n",
    "# Calculating accuracy and F1 score\n",
    "ac = accuracy_score(y_test, y_pred)\n",
    "f1 = f1_score(y_test, y_pred)\n",
    "\n",
    "# Printing the best paramaters found Followed by the accuracy and F1 score\n",
    "print(search.best_params_)\n",
    "print(\"accuracy\", ac)\n",
    "print(\"f1\", f1)"
   ]
  },
  {
   "cell_type": "markdown",
   "id": "ab2d60cb",
   "metadata": {},
   "source": [
    "After try and error it is supposed to have an optimal model ready to deploy, but what if you want to deploy to different platform with different programming language? One of the solutions is [sklean-porter](https://pypi.org/project/sklearn-porter/)\n",
    ">**Step 7:** Port the model we got to your prefered programming language"
   ]
  },
  {
   "cell_type": "code",
   "execution_count": null,
   "id": "ab1638c1",
   "metadata": {},
   "outputs": [],
   "source": [
    "# Instancing Porter giving our best model and Java language\n",
    "porter = Porter(model_dt_best, language='java')\n",
    "\n",
    "# Port our model to the desired language as a string\n",
    "output = porter.export(embed_data=True)\n",
    "\n",
    "# Creating a file and write the output string to it\n",
    "with open(\"DecisionTreeClassifier.java\", \"w\") as f:\n",
    "    f.write(output)\n",
    "\n",
    "# Print the output\n",
    "print(output)"
   ]
  },
  {
   "cell_type": "code",
   "execution_count": null,
   "id": "b3fcfee7",
   "metadata": {},
   "outputs": [],
   "source": []
  }
 ],
 "metadata": {
  "kernelspec": {
   "display_name": "Python 3",
   "language": "python",
   "name": "python3"
  },
  "language_info": {
   "codemirror_mode": {
    "name": "ipython",
    "version": 3
   },
   "file_extension": ".py",
   "mimetype": "text/x-python",
   "name": "python",
   "nbconvert_exporter": "python",
   "pygments_lexer": "ipython3",
   "version": "3.6.9"
  }
 },
 "nbformat": 4,
 "nbformat_minor": 5
}
